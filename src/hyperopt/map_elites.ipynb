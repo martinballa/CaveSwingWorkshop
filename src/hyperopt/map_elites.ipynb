{
 "cells": [
  {
   "cell_type": "code",
   "execution_count": null,
   "metadata": {},
   "outputs": [],
   "source": [
    "import matplotlib.pyplot as plt\n",
    "import numpy as np\n",
    "import matplotlib\n",
    "import mapElite\n",
    "import cv2\n",
    "\n",
    "numIters = 2000\n",
    "randomSolutions = 50\n",
    "    \n",
    "client = mapElite.connectToServer()\n",
    "elites = mapElite.runSimulation(numIters, randomSolutions, client)"
   ]
  },
  {
   "cell_type": "code",
   "execution_count": null,
   "metadata": {},
   "outputs": [],
   "source": [
    "# first one is always the Y axis and second is the X axis\n",
    "mapElite.behaviour_tresholds = [\n",
    "    (\"height\", (mapElite.get_threshold(min=37.18849732, max=208.55109695, bins=50))),\n",
    "    (\"averageSpeed\", (mapElite.get_threshold(min=5., max=312., bins=50)))]"
   ]
  },
  {
   "cell_type": "code",
   "execution_count": null,
   "metadata": {},
   "outputs": [],
   "source": [
    "counter = 0\n",
    "for a in elites:\n",
    "    for b in a:\n",
    "        if (b!= None):\n",
    "            print(b)\n",
    "            counter+=1"
   ]
  },
  {
   "cell_type": "code",
   "execution_count": null,
   "metadata": {},
   "outputs": [],
   "source": [
    "mapElite.makeHeatMap(elites)\n",
    "print(\"number of bins filled {} out of {}\".format(counter, (elites.shape[0]*elites.shape[1])))"
   ]
  },
  {
   "cell_type": "code",
   "execution_count": null,
   "metadata": {},
   "outputs": [],
   "source": [
    "\n",
    "a = 0\n",
    "num =0\n",
    "for i in elites.flatten():\n",
    "    num +=1\n",
    "    if i == None:\n",
    "        a += 1\n",
    "a\n",
    "num\n",
    "a/(num)\n",
    "heights = []\n",
    "\n",
    "for x in range(1000):\n",
    "    a = mapElite.getRandomParams(mapElite.param_limits)\n",
    "    result = client.evaluate_params(a)\n",
    "    bah = result.behaviour[\"height\"]\n",
    "    heights.append(bah)\n",
    "np.array(heights).min()\n",
    "np.array(heights).max()\n",
    "\n"
   ]
  }
 ],
 "metadata": {
  "kernelspec": {
   "display_name": "Python 3",
   "language": "python",
   "name": "python3"
  },
  "language_info": {
   "codemirror_mode": {
    "name": "ipython",
    "version": 3
   },
   "file_extension": ".py",
   "mimetype": "text/x-python",
   "name": "python",
   "nbconvert_exporter": "python",
   "pygments_lexer": "ipython3",
   "version": "3.6.6"
  }
 },
 "nbformat": 4,
 "nbformat_minor": 2
}
