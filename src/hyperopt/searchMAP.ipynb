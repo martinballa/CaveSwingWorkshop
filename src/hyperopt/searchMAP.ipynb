{
 "cells": [
  {
   "cell_type": "code",
   "execution_count": null,
   "metadata": {},
   "outputs": [],
   "source": [
    "import mapElite\n",
    "import random\n",
    "import copy"
   ]
  },
  {
   "cell_type": "code",
   "execution_count": 2,
   "metadata": {},
   "outputs": [],
   "source": [
    "client = mapElite.connectToServer()"
   ]
  },
  {
   "cell_type": "code",
   "execution_count": 3,
   "metadata": {},
   "outputs": [],
   "source": [
    "client.ping()\n",
    "\n",
    "# initial parameters\n",
    "params = dict()\n",
    "params[\"pointPerX\"] = 10\n",
    "params[\"hooke\"] = 0.02\n",
    "params[\"width\"] = 2500\n",
    "params[\"nAnchors\"] = 8\n",
    "params[\"maxTicks\"] = 500\n",
    "params[\"meanAnchorHeight\"] = 100.0\n",
    "params[\"costPerTick\"] = 50\n",
    "params[\"lossFactor\"] = 0.9999\n",
    "params[\"failurePenalty\"] = 1000\n",
    "params[\"pointPerY\"] = -10\n",
    "params[\"successBonus\"] = 1000\n",
    "params[\"gravity_X\"] = -0.0\n",
    "params[\"gravity_Y\"] = 1.2"
   ]
  },
  {
   "cell_type": "code",
   "execution_count": 4,
   "metadata": {},
   "outputs": [],
   "source": [
    "# Create an empty, N-dimensional map of elites\n",
    "elites = [] # list of tuples [[score, params]]\n",
    "numIters = 10\n",
    "randomSolutions = 7"
   ]
  },
  {
   "cell_type": "code",
   "execution_count": 12,
   "metadata": {},
   "outputs": [
    {
     "ename": "TypeError",
     "evalue": "object of type 'NoneType' has no len()",
     "traceback": [
      "\u001b[1;31m---------------------------------------------------------------------------\u001b[0m",
      "\u001b[1;31mTypeError\u001b[0m                                 Traceback (most recent call last)",
      "\u001b[1;32m<ipython-input-12-b8af3c0c8d9c>\u001b[0m in \u001b[0;36m<module>\u001b[1;34m\u001b[0m\n\u001b[0;32m      7\u001b[0m         \u001b[0mb\u001b[0m \u001b[1;33m=\u001b[0m \u001b[0mresults\u001b[0m\u001b[1;33m.\u001b[0m\u001b[0mbehaviour\u001b[0m\u001b[1;33m\u001b[0m\u001b[1;33m\u001b[0m\u001b[0m\n\u001b[0;32m      8\u001b[0m         \u001b[1;31m#get the index\u001b[0m\u001b[1;33m\u001b[0m\u001b[1;33m\u001b[0m\u001b[1;33m\u001b[0m\u001b[0m\n\u001b[1;32m----> 9\u001b[1;33m         \u001b[0mindex\u001b[0m \u001b[1;33m=\u001b[0m \u001b[0mmapElite\u001b[0m\u001b[1;33m.\u001b[0m\u001b[0mbehavior_to_behaviour_idx\u001b[0m\u001b[1;33m(\u001b[0m\u001b[0mb\u001b[0m\u001b[1;33m,\u001b[0m \u001b[0mmapElite\u001b[0m\u001b[1;33m.\u001b[0m\u001b[0mbehaviour_tresholds\u001b[0m\u001b[1;33m)\u001b[0m\u001b[1;33m\u001b[0m\u001b[1;33m\u001b[0m\u001b[0m\n\u001b[0m\u001b[0;32m     10\u001b[0m         \u001b[1;31m#evaluate the index\u001b[0m\u001b[1;33m\u001b[0m\u001b[1;33m\u001b[0m\u001b[1;33m\u001b[0m\u001b[0m\n\u001b[0;32m     11\u001b[0m         \u001b[1;32mif\u001b[0m\u001b[1;33m(\u001b[0m\u001b[0melites\u001b[0m\u001b[1;33m[\u001b[0m\u001b[0mindex\u001b[0m\u001b[1;33m]\u001b[0m \u001b[1;33m==\u001b[0m \u001b[1;32mNone\u001b[0m\u001b[1;33m)\u001b[0m\u001b[1;33m:\u001b[0m\u001b[1;33m\u001b[0m\u001b[1;33m\u001b[0m\u001b[0m\n",
      "\u001b[1;32m~\\OneDrive\\0000_PhD\\000_Courses\\07_GameAI\\00_Project\\SimpleAsteroids\\src\\hyperopt\\mapElite.py\u001b[0m in \u001b[0;36mbehavior_to_behaviour_idx\u001b[1;34m(b, b_tresholds)\u001b[0m\n\u001b[0;32m     43\u001b[0m \u001b[1;33m\u001b[0m\u001b[0m\n\u001b[0;32m     44\u001b[0m \u001b[1;32mdef\u001b[0m \u001b[0mbehavior_to_behaviour_idx\u001b[0m\u001b[1;33m(\u001b[0m\u001b[0mb\u001b[0m\u001b[1;33m,\u001b[0m\u001b[0mb_tresholds\u001b[0m\u001b[1;33m)\u001b[0m\u001b[1;33m:\u001b[0m\u001b[1;33m\u001b[0m\u001b[1;33m\u001b[0m\u001b[0m\n\u001b[1;32m---> 45\u001b[1;33m     \u001b[1;32mif\u001b[0m \u001b[0mlen\u001b[0m\u001b[1;33m(\u001b[0m\u001b[0mb_tresholds\u001b[0m\u001b[1;33m)\u001b[0m \u001b[1;33m!=\u001b[0m \u001b[0mlen\u001b[0m\u001b[1;33m(\u001b[0m\u001b[0mb\u001b[0m\u001b[1;33m)\u001b[0m\u001b[1;33m:\u001b[0m\u001b[1;33m\u001b[0m\u001b[1;33m\u001b[0m\u001b[0m\n\u001b[0m\u001b[0;32m     46\u001b[0m         \u001b[0mprint\u001b[0m\u001b[1;33m(\u001b[0m\u001b[1;34m\"SHIT\"\u001b[0m\u001b[1;33m)\u001b[0m\u001b[1;33m\u001b[0m\u001b[1;33m\u001b[0m\u001b[0m\n\u001b[0;32m     47\u001b[0m     \u001b[0mb_idx\u001b[0m \u001b[1;33m=\u001b[0m \u001b[1;33m[\u001b[0m\u001b[1;33m]\u001b[0m\u001b[1;33m\u001b[0m\u001b[1;33m\u001b[0m\u001b[0m\n",
      "\u001b[1;31mTypeError\u001b[0m: object of type 'NoneType' has no len()"
     ],
     "output_type": "error"
    }
   ],
   "source": [
    "# loop for numberOfIters iterations\n",
    "for x in range(numIters):\n",
    "    \n",
    "    # Initialize by generating G random solutions\n",
    "    if (x < randomSolutions):\n",
    "        # get the score and the behavior\n",
    "        results = client.evaluate_params(params) \n",
    "        result = results.game_score\n",
    "        b = results.behaviour\n",
    "        \n",
    "        # get the index\n",
    "        index = mapElite.behavior_to_behaviour_idx(b, mapElite.behaviour_tresholds)\n",
    "        \n",
    "        # evaluate the index\n",
    "        if(elites[index] == None):\n",
    "            elites[index] = (result, params)\n",
    "        elif((elites[index][0]) < result):\n",
    "            elites[index] = (result, params)\n",
    "    else:\n",
    "        # Select a random X elite\n",
    "        randomElite = random.choice(elites)\n",
    "        while (randomElite == None):\n",
    "            randomElite = random.choice(elites)\n",
    "            \n",
    "        # Modify X via mutation or crossover\n",
    "        eliteMutated = copy.deepcopy(randomElite)\n",
    "        \n",
    "        # Mutate the params\n",
    "        paramsMutated = mutateParams(eliteMutated)\n",
    "        \n",
    "    # Calculate the performance of the mutated version\n",
    "    scoresMutated = client.evaluate_params(paramsMutated)\n",
    "    scoreMutated = scoresMutated.game_score\n",
    "    b = scoresMutated.behaviour\n",
    "    eliteMutatedResult = (scoreMutated,paramsMutated)\n",
    "    \n",
    "    # Get the index\n",
    "    behav = mapElite.behavior_to_behaviour_idx(b, mapElite.behaviour_tresholds)\n",
    "    \n",
    "    #if it does not exits, populate it\n",
    "    if(elites[behav] == None):\n",
    "        elites[behav] = behav\n",
    "        \n",
    "    #if the old version is worse, override it\n",
    "    if (elites[behav][0] < behav[0]):\n",
    "        elites[behav] = behav"
   ]
  },
  {
   "cell_type": "code",
   "execution_count": null,
   "metadata": {},
   "outputs": [],
   "source": []
  }
 ],
 "metadata": {
  "kernelspec": {
   "display_name": "Python 3",
   "language": "python",
   "name": "python3"
  },
  "language_info": {
   "codemirror_mode": {
    "name": "ipython",
    "version": 3
   },
   "file_extension": ".py",
   "mimetype": "text/x-python",
   "name": "python",
   "nbconvert_exporter": "python",
   "pygments_lexer": "ipython3",
   "version": "3.6.6"
  }
 },
 "nbformat": 4,
 "nbformat_minor": 2
}
